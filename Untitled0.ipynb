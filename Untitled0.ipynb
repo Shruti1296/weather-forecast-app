{
  "nbformat": 4,
  "nbformat_minor": 0,
  "metadata": {
    "colab": {
      "provenance": [],
      "authorship_tag": "ABX9TyOboRHx02QMhbL+IwP5UumC",
      "include_colab_link": true
    },
    "kernelspec": {
      "name": "python3",
      "display_name": "Python 3"
    },
    "language_info": {
      "name": "python"
    }
  },
  "cells": [
    {
      "cell_type": "markdown",
      "metadata": {
        "id": "view-in-github",
        "colab_type": "text"
      },
      "source": [
        "<a href=\"https://colab.research.google.com/github/Shruti1296/weather-forecast-app/blob/main/Untitled0.ipynb\" target=\"_parent\"><img src=\"https://colab.research.google.com/assets/colab-badge.svg\" alt=\"Open In Colab\"/></a>"
      ]
    },
    {
      "cell_type": "code",
      "execution_count": 12,
      "metadata": {
        "colab": {
          "base_uri": "https://localhost:8080/"
        },
        "id": "H5JbD62Enr2y",
        "outputId": "9f4602b0-e0b4-4064-f5a7-5cc7e143adc7"
      },
      "outputs": [
        {
          "output_type": "stream",
          "name": "stdout",
          "text": [
            "Enter city name: mumbai\n",
            "\n",
            "Weather in Mumbai:\n",
            "🌡️ Temperature: 27.62°C\n",
            "💧 Humidity: 83%\n",
            "🌤️ Description: Moderate Rain\n"
          ]
        }
      ],
      "source": [
        "import requests\n",
        "api_key = \"0eec937e60ccdfd36ac84e8e6ccf36d2\"\n",
        "city = input(\"Enter city name: \")\n",
        "base_url = f\"http://api.openweathermap.org/data/2.5/weather?q={city}&appid={api_key}&units=metric\"\n",
        "response = requests.get(base_url)\n",
        "data = response.json()\n",
        "if data[\"cod\"] != \"404\":\n",
        "    main = data[\"main\"]\n",
        "    weather = data[\"weather\"][0]\n",
        "    print(f\"\\nWeather in {city.title()}:\")\n",
        "    print(f\"🌡️ Temperature: {main['temp']}°C\")\n",
        "    print(f\"💧 Humidity: {main['humidity']}%\")\n",
        "    print(f\"🌤️ Description: {weather['description'].title()}\")\n",
        "else:\n",
        "    print(\"City not found. Please check the name and try again.\")"
      ]
    },
    {
      "cell_type": "code",
      "source": [],
      "metadata": {
        "id": "2PI1q1b2qCqw"
      },
      "execution_count": null,
      "outputs": []
    }
  ]
}